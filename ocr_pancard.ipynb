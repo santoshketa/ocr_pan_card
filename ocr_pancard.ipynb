{
 "cells": [
  {
   "cell_type": "markdown",
   "metadata": {},
   "source": [
    "# OCR on PAN Card"
   ]
  },
  {
   "cell_type": "markdown",
   "metadata": {},
   "source": [
    "###  Procedure followed\n",
    "\n",
    "1.After inputting image converted it to gray scale because it helps in noise reduction and reduces time for mathematical computation on images(colour is of no use for our task).\n",
    "\n",
    "2.Detected horizontal lines/edges in the image to know whether image is tilted by any angle or not.\n",
    "\n",
    "3.After detecting horizontal lines I calculated angle of that lines and calculated median of the lines so as to get average of all the lines detected.\n",
    "\n",
    "4.Rotated the image if median angle of the obtained lines is not equal to zero .\n",
    "\n",
    "5.Applied pytesseract library to detect text from the image.\n",
    "\n",
    "6.Processed the text obtained.\n",
    "\n",
    "7.Applied regex to detect date and PAN card number from the text .\n",
    "\n"
   ]
  },
  {
   "cell_type": "markdown",
   "metadata": {},
   "source": [
    "# Code"
   ]
  },
  {
   "cell_type": "code",
   "execution_count": 1,
   "metadata": {},
   "outputs": [],
   "source": [
    "import os\n",
    "import ftfy\n",
    "import pytesseract\n",
    "import re\n",
    "import math\n",
    "from scipy import ndimage\n",
    "import cv2\n",
    "import numpy as np\n",
    "\n",
    "#os.chdir('C:\\\\Users\\\\santosh\\\\Desktop')\n",
    "# reading file from path\n",
    "def ocr_on_pan(image_path):\n",
    "    \n",
    "    img = cv2.imread(image_path)\n",
    "    \n",
    "\n",
    "    img_before = cv2.imread(image_path)\n",
    "    img_gray = cv2.cvtColor(img_before, cv2.COLOR_BGR2GRAY)# converting image to gray scale to remove noise and colour complexity\n",
    "    img_edges = cv2.Canny(img_gray, 100, 100, apertureSize=3)# canny edge detector detects edges in an image\n",
    "    \n",
    "#Calculating rotation angle of the image\n",
    "    lines = cv2.HoughLinesP(img_edges, 1, math.pi / 180.0, 100, minLineLength=100, maxLineGap=5 )#detects any shape but here horizontal lines if any\n",
    "\n",
    "    # Caclulating angle of lines detected \n",
    "    angles = []\n",
    "\n",
    "    for [[x1, y1, x2, y2]] in lines:\n",
    "        cv2.line(img_before, (x1, y1), (x2, y2), (255, 0, 0), 3)\n",
    "        angle = math.degrees(math.atan2(y2 - y1, x2 - x1))\n",
    "        angles.append(angle)\n",
    "    median_angle = np.median(angles)\n",
    "    print(\"image rotated by\",median_angle,\"angle\")\n",
    "    \n",
    "    \n",
    "\n",
    "# If-else block to check and rotate image and applying  pytesseract on final rotated images\n",
    "    if median_angle!=0:\n",
    "        img_rotated = ndimage.rotate(img, (median_angle*2-1))\n",
    "    # extracting text from image using tesseract\n",
    "        text = pytesseract.image_to_string(img_rotated)\n",
    "    else:\n",
    "        text = pytesseract.image_to_string(img_gray)\n",
    "\n",
    "    text = ftfy.fix_text(text)\n",
    "\n",
    "    \n",
    "    \n",
    "# Applying regex to obtain date(dob) and Pan number\n",
    "    dob=re.search(r'\\d{2}/\\d{2}/\\d{4}', text)    # regex for date\n",
    "    pan_no=re.search('[A-Z]{5}[0-9]{4}[A-Z]{1}',text)  #regex for pan_number\n",
    "    print(\"pan card number:\",pan_no.group()) \n",
    "    print(\"dob on pan card:\",dob.group())\n"
   ]
  },
  {
   "cell_type": "markdown",
   "metadata": {},
   "source": [
    "# For Image 1"
   ]
  },
  {
   "cell_type": "code",
   "execution_count": 2,
   "metadata": {},
   "outputs": [
    {
     "name": "stdout",
     "output_type": "stream",
     "text": [
      "image rotated by 0.0 angle\n",
      "pan card number: ELWPM8089J\n",
      "dob on pan card: 30/01/1997\n"
     ]
    }
   ],
   "source": [
    "ocr_on_pan('pan1.jpg')"
   ]
  },
  {
   "cell_type": "markdown",
   "metadata": {},
   "source": [
    "# For Image 2"
   ]
  },
  {
   "cell_type": "code",
   "execution_count": 3,
   "metadata": {},
   "outputs": [
    {
     "name": "stdout",
     "output_type": "stream",
     "text": [
      "image rotated by 0.0 angle\n",
      "pan card number: BXAPC1000L\n",
      "dob on pan card: 13/09/1996\n"
     ]
    }
   ],
   "source": [
    "ocr_on_pan('pan2.jpg')"
   ]
  },
  {
   "cell_type": "markdown",
   "metadata": {},
   "source": [
    "# For Image 3"
   ]
  },
  {
   "cell_type": "code",
   "execution_count": 4,
   "metadata": {},
   "outputs": [
    {
     "name": "stdout",
     "output_type": "stream",
     "text": [
      "image rotated by -45.0 angle\n",
      "pan card number: BGYPJ0129A\n",
      "dob on pan card: 18/03/1996\n"
     ]
    }
   ],
   "source": [
    "ocr_on_pan('pan3.jpg')"
   ]
  }
 ],
 "metadata": {
  "kernelspec": {
   "display_name": "Python 3",
   "language": "python",
   "name": "python3"
  },
  "language_info": {
   "codemirror_mode": {
    "name": "ipython",
    "version": 3
   },
   "file_extension": ".py",
   "mimetype": "text/x-python",
   "name": "python",
   "nbconvert_exporter": "python",
   "pygments_lexer": "ipython3",
   "version": "3.6.5"
  }
 },
 "nbformat": 4,
 "nbformat_minor": 2
}
